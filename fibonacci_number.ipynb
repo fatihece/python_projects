{
 "metadata": {
  "language_info": {
   "codemirror_mode": {
    "name": "ipython",
    "version": 3
   },
   "file_extension": ".py",
   "mimetype": "text/x-python",
   "name": "python",
   "nbconvert_exporter": "python",
   "pygments_lexer": "ipython3",
   "version": "3.8.5"
  },
  "orig_nbformat": 2,
  "kernelspec": {
   "name": "python385jvsc74a57bd096e7e676e6d72885be8c966d178a56a4f9813c138737883886bef6fff4cc7528",
   "display_name": "Python 3.8.5 64-bit (conda)"
  }
 },
 "nbformat": 4,
 "nbformat_minor": 2,
 "cells": [
  {
   "cell_type": "code",
   "execution_count": 6,
   "metadata": {},
   "outputs": [
    {
     "output_type": "stream",
     "name": "stdout",
     "text": [
      "[0, 1, 1, 2, 3, 5, 8, 13, 21, 34, 55]\n"
     ]
    }
   ],
   "source": [
    "# Fibonacci number\n",
    "\n",
    "fibo =  [0,1]\n",
    "n = int(input(\"How many fibonacci numbers do you want:  \"))\n",
    "\n",
    "for i in range(n):\n",
    "    if max(fibo) == 55:\n",
    "        break\n",
    "    x = fibo[i] + fibo[i+1]\n",
    "    fibo.append(x)\n",
    "print(fibo)    "
   ]
  },
  {
   "cell_type": "code",
   "execution_count": null,
   "metadata": {},
   "outputs": [],
   "source": []
  }
 ]
}