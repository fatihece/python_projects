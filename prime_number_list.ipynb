{
 "metadata": {
  "language_info": {
   "codemirror_mode": {
    "name": "ipython",
    "version": 3
   },
   "file_extension": ".py",
   "mimetype": "text/x-python",
   "name": "python",
   "nbconvert_exporter": "python",
   "pygments_lexer": "ipython3",
   "version": "3.8.5"
  },
  "orig_nbformat": 2,
  "kernelspec": {
   "name": "python385jvsc74a57bd096e7e676e6d72885be8c966d178a56a4f9813c138737883886bef6fff4cc7528",
   "display_name": "Python 3.8.5 64-bit (conda)"
  }
 },
 "nbformat": 4,
 "nbformat_minor": 2,
 "cells": [
  {
   "cell_type": "code",
   "execution_count": 30,
   "metadata": {},
   "outputs": [
    {
     "output_type": "stream",
     "name": "stdout",
     "text": [
      "[2, 3, 5, 7, 11, 13, 17, 19]\n"
     ]
    }
   ],
   "source": [
    "n = int(input())\n",
    "prime_num = []\n",
    "\n",
    "for j in range(n + 1):\n",
    "    control = False\n",
    "    if j > 1:\n",
    "        for i in range(2, j):\n",
    "            if (j % i) == 0:\n",
    "                control = True\n",
    "        if not control:\n",
    "            prime_num.append(j)\n",
    "        else:\n",
    "            pass\n",
    "print(prime_num) "
   ]
  },
  {
   "cell_type": "code",
   "execution_count": null,
   "metadata": {},
   "outputs": [],
   "source": []
  }
 ]
}